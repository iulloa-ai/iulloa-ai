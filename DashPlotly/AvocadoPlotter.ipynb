{
 "cells": [
  {
   "cell_type": "code",
   "execution_count": 1,
   "id": "6ca7d58b",
   "metadata": {},
   "outputs": [],
   "source": [
    "from dash import Dash, html, dcc, Input, Output\n",
    "import pandas as pd\n",
    "import plotly.express as px\n",
    "\n",
    "avocado = pd.read_csv('avocado-updated-2020.csv')"
   ]
  },
  {
   "cell_type": "code",
   "execution_count": 2,
   "id": "2c436d1e",
   "metadata": {},
   "outputs": [],
   "source": [
    "app = Dash()"
   ]
  },
  {
   "cell_type": "code",
   "execution_count": 3,
   "id": "cebd7b27",
   "metadata": {},
   "outputs": [],
   "source": [
    "geo_dropdown = dcc.Dropdown(options=avocado['geography'].unique(),\n",
    "                            value='New York')\n",
    "\n",
    "app.layout = html.Div(children=[\n",
    "    html.H1(children='Avocado Prices Dashboard'),\n",
    "    geo_dropdown,\n",
    "    dcc.Graph(id='price-graph')\n",
    "])"
   ]
  },
  {
   "cell_type": "code",
   "execution_count": 5,
   "id": "5ee0aa1d",
   "metadata": {},
   "outputs": [
    {
     "ename": "SyntaxError",
     "evalue": "unexpected EOF while parsing (2708026259.py, line 1)",
     "output_type": "error",
     "traceback": [
      "\u001b[0;36m  File \u001b[0;32m\"/var/folders/lc/twm1mlx17_5_6xqwzk6wjp0r0000gn/T/ipykernel_1484/2708026259.py\"\u001b[0;36m, line \u001b[0;32m1\u001b[0m\n\u001b[0;31m    @app.callback(Output(component_id='price-graph', component_property='figure'),Input(component_id=geo_dropdown, component_property='value'))\u001b[0m\n\u001b[0m                                                                                                                                               ^\u001b[0m\n\u001b[0;31mSyntaxError\u001b[0m\u001b[0;31m:\u001b[0m unexpected EOF while parsing\n"
     ]
    }
   ],
   "source": [
    "@app.callback(\n",
    "    Output(component_id='price-graph', component_property='figure'),\n",
    "    Input(component_id=geo_dropdown, component_property='value'))"
   ]
  },
  {
   "cell_type": "code",
   "execution_count": null,
   "id": "f3f5ee2b",
   "metadata": {},
   "outputs": [],
   "source": [
    "def update_graph(selected_geography):\n",
    "    filtered_avocado = avocado[avocado['geography'] == selected_geography]\n",
    "    line_fig = px.line(filtered_avocado,\n",
    "                       x='date', y='average_price',\n",
    "                       color='type',\n",
    "                       title=f'Avocado Prices in {selected_geography}')\n",
    "    return line_fig"
   ]
  },
  {
   "cell_type": "code",
   "execution_count": null,
   "id": "9fbf6c8e",
   "metadata": {},
   "outputs": [],
   "source": []
  }
 ],
 "metadata": {
  "kernelspec": {
   "display_name": "Python 3 (ipykernel)",
   "language": "python",
   "name": "python3"
  },
  "language_info": {
   "codemirror_mode": {
    "name": "ipython",
    "version": 3
   },
   "file_extension": ".py",
   "mimetype": "text/x-python",
   "name": "python",
   "nbconvert_exporter": "python",
   "pygments_lexer": "ipython3",
   "version": "3.9.12"
  }
 },
 "nbformat": 4,
 "nbformat_minor": 5
}
