{
 "cells": [
  {
   "cell_type": "markdown",
   "id": "1d4b6f93",
   "metadata": {},
   "source": [
    "# RadiationMap Data Loader\n",
    "This python script loads countrate data from the pre-downloaded csv files into a postgre sql database.\n",
    "1. Load CSV file into Pandas Dataframe\n",
    "2. Extract LOCATION_NAME, SAMPLE COLLECTION TIME, and all of the "
   ]
  },
  {
   "cell_type": "markdown",
   "id": "57204d8e-b9cc-4f91-a163-3357493bf99f",
   "metadata": {},
   "source": [
    "## Import Libraries"
   ]
  },
  {
   "cell_type": "code",
   "execution_count": 1,
   "id": "8a04a5da",
   "metadata": {},
   "outputs": [],
   "source": [
    "import plotly.offline as pyo\n",
    "import plotly.graph_objs as go\n",
    "import pandas as pd\n",
    "import sqlalchemy as sqla"
   ]
  },
  {
   "cell_type": "markdown",
   "id": "a7525895-a948-4951-84ce-2fdb48bbec6c",
   "metadata": {},
   "source": [
    "## Read CSV File into Pandas Dataframe"
   ]
  },
  {
   "cell_type": "code",
   "execution_count": 2,
   "id": "f69765e0",
   "metadata": {},
   "outputs": [
    {
     "data": {
      "text/html": [
       "<div>\n",
       "<style scoped>\n",
       "    .dataframe tbody tr th:only-of-type {\n",
       "        vertical-align: middle;\n",
       "    }\n",
       "\n",
       "    .dataframe tbody tr th {\n",
       "        vertical-align: top;\n",
       "    }\n",
       "\n",
       "    .dataframe thead th {\n",
       "        text-align: right;\n",
       "    }\n",
       "</style>\n",
       "<table border=\"1\" class=\"dataframe\">\n",
       "  <thead>\n",
       "    <tr style=\"text-align: right;\">\n",
       "      <th></th>\n",
       "      <th>LOCATION_NAME</th>\n",
       "      <th>SAMPLE COLLECTION TIME</th>\n",
       "      <th>DOSE EQUIVALENT RATE (nSv/h)</th>\n",
       "      <th>GAMMA COUNT RATE R02 (CPM)</th>\n",
       "      <th>GAMMA COUNT RATE R03 (CPM)</th>\n",
       "      <th>GAMMA COUNT RATE R04 (CPM)</th>\n",
       "      <th>GAMMA COUNT RATE R05 (CPM)</th>\n",
       "      <th>GAMMA COUNT RATE R06 (CPM)</th>\n",
       "      <th>GAMMA COUNT RATE R07 (CPM)</th>\n",
       "      <th>GAMMA COUNT RATE R08 (CPM)</th>\n",
       "      <th>GAMMA COUNT RATE R09 (CPM)</th>\n",
       "      <th>STATUS</th>\n",
       "    </tr>\n",
       "  </thead>\n",
       "  <tbody>\n",
       "    <tr>\n",
       "      <th>0</th>\n",
       "      <td>CA: SAN DIEGO</td>\n",
       "      <td>06/12/2006 19:02:00</td>\n",
       "      <td>NaN</td>\n",
       "      <td>151.0</td>\n",
       "      <td>89.0</td>\n",
       "      <td>35.0</td>\n",
       "      <td>36.0</td>\n",
       "      <td>136.0</td>\n",
       "      <td>799.0</td>\n",
       "      <td>3359.0</td>\n",
       "      <td>699.0</td>\n",
       "      <td>APPROVED</td>\n",
       "    </tr>\n",
       "    <tr>\n",
       "      <th>1</th>\n",
       "      <td>CA: SAN DIEGO</td>\n",
       "      <td>06/12/2006 20:03:00</td>\n",
       "      <td>NaN</td>\n",
       "      <td>152.0</td>\n",
       "      <td>94.0</td>\n",
       "      <td>36.0</td>\n",
       "      <td>36.0</td>\n",
       "      <td>145.0</td>\n",
       "      <td>832.0</td>\n",
       "      <td>3380.0</td>\n",
       "      <td>713.0</td>\n",
       "      <td>APPROVED</td>\n",
       "    </tr>\n",
       "    <tr>\n",
       "      <th>2</th>\n",
       "      <td>CA: SAN DIEGO</td>\n",
       "      <td>06/12/2006 21:03:00</td>\n",
       "      <td>NaN</td>\n",
       "      <td>155.0</td>\n",
       "      <td>94.0</td>\n",
       "      <td>35.0</td>\n",
       "      <td>33.0</td>\n",
       "      <td>151.0</td>\n",
       "      <td>849.0</td>\n",
       "      <td>3433.0</td>\n",
       "      <td>732.0</td>\n",
       "      <td>APPROVED</td>\n",
       "    </tr>\n",
       "    <tr>\n",
       "      <th>3</th>\n",
       "      <td>CA: SAN DIEGO</td>\n",
       "      <td>06/12/2006 22:03:00</td>\n",
       "      <td>NaN</td>\n",
       "      <td>156.0</td>\n",
       "      <td>97.0</td>\n",
       "      <td>38.0</td>\n",
       "      <td>35.0</td>\n",
       "      <td>154.0</td>\n",
       "      <td>861.0</td>\n",
       "      <td>3462.0</td>\n",
       "      <td>737.0</td>\n",
       "      <td>APPROVED</td>\n",
       "    </tr>\n",
       "    <tr>\n",
       "      <th>4</th>\n",
       "      <td>CA: SAN DIEGO</td>\n",
       "      <td>06/12/2006 23:03:00</td>\n",
       "      <td>NaN</td>\n",
       "      <td>161.0</td>\n",
       "      <td>98.0</td>\n",
       "      <td>38.0</td>\n",
       "      <td>37.0</td>\n",
       "      <td>158.0</td>\n",
       "      <td>883.0</td>\n",
       "      <td>3537.0</td>\n",
       "      <td>756.0</td>\n",
       "      <td>APPROVED</td>\n",
       "    </tr>\n",
       "  </tbody>\n",
       "</table>\n",
       "</div>"
      ],
      "text/plain": [
       "   LOCATION_NAME SAMPLE COLLECTION TIME  DOSE EQUIVALENT RATE (nSv/h)  \\\n",
       "0  CA: SAN DIEGO    06/12/2006 19:02:00                           NaN   \n",
       "1  CA: SAN DIEGO    06/12/2006 20:03:00                           NaN   \n",
       "2  CA: SAN DIEGO    06/12/2006 21:03:00                           NaN   \n",
       "3  CA: SAN DIEGO    06/12/2006 22:03:00                           NaN   \n",
       "4  CA: SAN DIEGO    06/12/2006 23:03:00                           NaN   \n",
       "\n",
       "   GAMMA COUNT RATE R02 (CPM)  GAMMA COUNT RATE R03 (CPM)  \\\n",
       "0                       151.0                        89.0   \n",
       "1                       152.0                        94.0   \n",
       "2                       155.0                        94.0   \n",
       "3                       156.0                        97.0   \n",
       "4                       161.0                        98.0   \n",
       "\n",
       "   GAMMA COUNT RATE R04 (CPM)  GAMMA COUNT RATE R05 (CPM)  \\\n",
       "0                        35.0                        36.0   \n",
       "1                        36.0                        36.0   \n",
       "2                        35.0                        33.0   \n",
       "3                        38.0                        35.0   \n",
       "4                        38.0                        37.0   \n",
       "\n",
       "   GAMMA COUNT RATE R06 (CPM)  GAMMA COUNT RATE R07 (CPM)  \\\n",
       "0                       136.0                       799.0   \n",
       "1                       145.0                       832.0   \n",
       "2                       151.0                       849.0   \n",
       "3                       154.0                       861.0   \n",
       "4                       158.0                       883.0   \n",
       "\n",
       "   GAMMA COUNT RATE R08 (CPM)  GAMMA COUNT RATE R09 (CPM)    STATUS  \n",
       "0                      3359.0                       699.0  APPROVED  \n",
       "1                      3380.0                       713.0  APPROVED  \n",
       "2                      3433.0                       732.0  APPROVED  \n",
       "3                      3462.0                       737.0  APPROVED  \n",
       "4                      3537.0                       756.0  APPROVED  "
      ]
     },
     "execution_count": 2,
     "metadata": {},
     "output_type": "execute_result"
    }
   ],
   "source": [
    "df = pd.read_csv('./Data/CA_SAN_DIEGO_2006.csv')\n",
    "df.head()"
   ]
  },
  {
   "cell_type": "markdown",
   "id": "a2900dd2-9d4a-425d-a11e-23272e81f662",
   "metadata": {},
   "source": [
    "## Create Time, Counts, and Location lists"
   ]
  },
  {
   "cell_type": "code",
   "execution_count": 3,
   "id": "cd2f7e02",
   "metadata": {},
   "outputs": [],
   "source": [
    "time = list(df['SAMPLE COLLECTION TIME'])\n",
    "counts = list(df.iloc[:,3:11].sum(axis=1))\n",
    "location = list(df['LOCATION_NAME'])"
   ]
  },
  {
   "cell_type": "markdown",
   "id": "573333fd-100c-4210-98ea-50611337adbc",
   "metadata": {},
   "source": [
    "## Create dataframe subset df1\n",
    "A dictionary with 4 keys is created prior to conerting into dataframe."
   ]
  },
  {
   "cell_type": "code",
   "execution_count": 6,
   "id": "192d5665",
   "metadata": {},
   "outputs": [
    {
     "data": {
      "text/html": [
       "<div>\n",
       "<style scoped>\n",
       "    .dataframe tbody tr th:only-of-type {\n",
       "        vertical-align: middle;\n",
       "    }\n",
       "\n",
       "    .dataframe tbody tr th {\n",
       "        vertical-align: top;\n",
       "    }\n",
       "\n",
       "    .dataframe thead th {\n",
       "        text-align: right;\n",
       "    }\n",
       "</style>\n",
       "<table border=\"1\" class=\"dataframe\">\n",
       "  <thead>\n",
       "    <tr style=\"text-align: right;\">\n",
       "      <th></th>\n",
       "      <th>date_time</th>\n",
       "      <th>location</th>\n",
       "      <th>counts</th>\n",
       "    </tr>\n",
       "  </thead>\n",
       "  <tbody>\n",
       "    <tr>\n",
       "      <th>0</th>\n",
       "      <td>06/12/2006 19:02:00</td>\n",
       "      <td>CA: SAN DIEGO</td>\n",
       "      <td>5304.0</td>\n",
       "    </tr>\n",
       "    <tr>\n",
       "      <th>1</th>\n",
       "      <td>06/12/2006 20:03:00</td>\n",
       "      <td>CA: SAN DIEGO</td>\n",
       "      <td>5388.0</td>\n",
       "    </tr>\n",
       "    <tr>\n",
       "      <th>2</th>\n",
       "      <td>06/12/2006 21:03:00</td>\n",
       "      <td>CA: SAN DIEGO</td>\n",
       "      <td>5482.0</td>\n",
       "    </tr>\n",
       "    <tr>\n",
       "      <th>3</th>\n",
       "      <td>06/12/2006 22:03:00</td>\n",
       "      <td>CA: SAN DIEGO</td>\n",
       "      <td>5540.0</td>\n",
       "    </tr>\n",
       "    <tr>\n",
       "      <th>4</th>\n",
       "      <td>06/12/2006 23:03:00</td>\n",
       "      <td>CA: SAN DIEGO</td>\n",
       "      <td>5668.0</td>\n",
       "    </tr>\n",
       "  </tbody>\n",
       "</table>\n",
       "</div>"
      ],
      "text/plain": [
       "             date_time       location  counts\n",
       "0  06/12/2006 19:02:00  CA: SAN DIEGO  5304.0\n",
       "1  06/12/2006 20:03:00  CA: SAN DIEGO  5388.0\n",
       "2  06/12/2006 21:03:00  CA: SAN DIEGO  5482.0\n",
       "3  06/12/2006 22:03:00  CA: SAN DIEGO  5540.0\n",
       "4  06/12/2006 23:03:00  CA: SAN DIEGO  5668.0"
      ]
     },
     "execution_count": 18,
     "metadata": {},
     "output_type": "execute_result"
    }
   ],
   "source": [
    "data = {'date_time': time,\n",
    "        'location':location,\n",
    "        'counts':counts}\n",
    "\n",
    "df_input = pd.DataFrame(data)\n",
    "df_input.head()"
   ]
  },
  {
   "cell_type": "markdown",
   "id": "0c9cc936-8673-4cae-aeb3-7e13084ab222",
   "metadata": {},
   "source": [
    "## Create SQLAlchemy engine to connect to PosgreSQL database"
   ]
  },
  {
   "cell_type": "code",
   "execution_count": null,
   "id": "528ec364-463a-4507-9a80-2cbc8dccdd9e",
   "metadata": {},
   "outputs": [],
   "source": [
    "flavor = 'postgresql'\n",
    "username = 'postgres'\n",
    "password = '156488'\n",
    "hostname = 'localhost'\n",
    "port = '5432'\n",
    "database_name = 'RadiationMap'\n",
    "    \n",
    "# Create the engine to connect to the PostgreSQL database\n",
    "engine = sqla.create_engine('{}://{}:{}@{}:{}/{}'.format(flavor,username,password,hostname,port,database_name))"
   ]
  },
  {
   "cell_type": "markdown",
   "id": "2f1a0997-305e-4665-8660-0088c0725ad1",
   "metadata": {},
   "source": [
    "## Insert Dataframe into PostgreSQL Database"
   ]
  },
  {
   "cell_type": "code",
   "execution_count": null,
   "id": "2207bfba-9208-4883-8019-61fba757f35b",
   "metadata": {},
   "outputs": [],
   "source": [
    "# Write data into the table in PostgreSQL database\n",
    "df1.to_sql('gamma_counts',engine, if_exists='append', index=False)"
   ]
  },
  {
   "cell_type": "markdown",
   "id": "ef8d3fee-233a-4f48-91dc-7d51cbd08d88",
   "metadata": {},
   "source": [
    "## Query Data from gamma_counts table"
   ]
  },
  {
   "cell_type": "code",
   "execution_count": 34,
   "id": "63d08c31",
   "metadata": {},
   "outputs": [
    {
     "data": {
      "text/html": [
       "<div>\n",
       "<style scoped>\n",
       "    .dataframe tbody tr th:only-of-type {\n",
       "        vertical-align: middle;\n",
       "    }\n",
       "\n",
       "    .dataframe tbody tr th {\n",
       "        vertical-align: top;\n",
       "    }\n",
       "\n",
       "    .dataframe thead th {\n",
       "        text-align: right;\n",
       "    }\n",
       "</style>\n",
       "<table border=\"1\" class=\"dataframe\">\n",
       "  <thead>\n",
       "    <tr style=\"text-align: right;\">\n",
       "      <th></th>\n",
       "      <th>date_time</th>\n",
       "      <th>location</th>\n",
       "      <th>counts</th>\n",
       "    </tr>\n",
       "  </thead>\n",
       "  <tbody>\n",
       "    <tr>\n",
       "      <th>0</th>\n",
       "      <td>2006-07-01 00:24:00</td>\n",
       "      <td>CA: SAN DIEGO</td>\n",
       "      <td>5935.0</td>\n",
       "    </tr>\n",
       "    <tr>\n",
       "      <th>1</th>\n",
       "      <td>2006-07-01 01:24:00</td>\n",
       "      <td>CA: SAN DIEGO</td>\n",
       "      <td>6005.0</td>\n",
       "    </tr>\n",
       "    <tr>\n",
       "      <th>2</th>\n",
       "      <td>2006-07-01 02:24:00</td>\n",
       "      <td>CA: SAN DIEGO</td>\n",
       "      <td>6086.0</td>\n",
       "    </tr>\n",
       "    <tr>\n",
       "      <th>3</th>\n",
       "      <td>2006-07-01 03:25:00</td>\n",
       "      <td>CA: SAN DIEGO</td>\n",
       "      <td>6099.0</td>\n",
       "    </tr>\n",
       "    <tr>\n",
       "      <th>4</th>\n",
       "      <td>2006-07-01 04:25:00</td>\n",
       "      <td>CA: SAN DIEGO</td>\n",
       "      <td>6166.0</td>\n",
       "    </tr>\n",
       "  </tbody>\n",
       "</table>\n",
       "</div>"
      ],
      "text/plain": [
       "            date_time       location  counts\n",
       "0 2006-07-01 00:24:00  CA: SAN DIEGO  5935.0\n",
       "1 2006-07-01 01:24:00  CA: SAN DIEGO  6005.0\n",
       "2 2006-07-01 02:24:00  CA: SAN DIEGO  6086.0\n",
       "3 2006-07-01 03:25:00  CA: SAN DIEGO  6099.0\n",
       "4 2006-07-01 04:25:00  CA: SAN DIEGO  6166.0"
      ]
     },
     "execution_count": 34,
     "metadata": {},
     "output_type": "execute_result"
    }
   ],
   "source": [
    "my_query = '''SELECT date_time, location, counts \n",
    "              FROM gamma_counts \n",
    "              WHERE date_time > '2006-07-01'; '''\n",
    "\n",
    "df_output = pd.read_sql(my_query, engine)\n",
    "df_output.head()"
   ]
  },
  {
   "cell_type": "markdown",
   "id": "b5104dd5-387d-4a07-9c54-1710a82bcc9c",
   "metadata": {},
   "source": [
    "## Plot Data from Output Query"
   ]
  },
  {
   "cell_type": "code",
   "execution_count": 4,
   "id": "66b9f9e6-109c-4d22-b419-258b76fee3a5",
   "metadata": {},
   "outputs": [],
   "source": [
    "# data = [go.Scatter(x=time,\n",
    "#                    y=counts,\n",
    "#                    mode='markers+lines',\n",
    "#                    name = df['LOCATION_NAME'].unique()[0])]\n",
    "# layout = go.Layout(title = 'My first Plot',\n",
    "#                    xaxis_title = 'Date/Time',\n",
    "#                    yaxis_title = 'Gamma Count Rate')"
   ]
  },
  {
   "cell_type": "code",
   "execution_count": 5,
   "id": "bb9b4d08-e2e4-48d5-a08e-ed36160bce85",
   "metadata": {},
   "outputs": [],
   "source": [
    "# fig = go.Figure(data=data,layout=layout)\n",
    "# pyo.plot(fig, filename='RadiationMap.html')"
   ]
  }
 ],
 "metadata": {
  "kernelspec": {
   "display_name": "Python 3 (ipykernel)",
   "language": "python",
   "name": "python3"
  },
  "language_info": {
   "codemirror_mode": {
    "name": "ipython",
    "version": 3
   },
   "file_extension": ".py",
   "mimetype": "text/x-python",
   "name": "python",
   "nbconvert_exporter": "python",
   "pygments_lexer": "ipython3",
   "version": "3.10.4"
  }
 },
 "nbformat": 4,
 "nbformat_minor": 5
}
